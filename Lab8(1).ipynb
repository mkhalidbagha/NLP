{
 "cells": [
  {
   "cell_type": "code",
   "execution_count": 1,
   "id": "4a476bcf",
   "metadata": {},
   "outputs": [],
   "source": [
    "with open('Adventures_Holmes.txt', 'r', encoding='utf-8') as file:\n",
    "    holmes_doc = file.read()\n"
   ]
  },
  {
   "cell_type": "code",
   "execution_count": 2,
   "id": "629aed5d",
   "metadata": {},
   "outputs": [
    {
     "name": "stderr",
     "output_type": "stream",
     "text": [
      "[nltk_data] Downloading package punkt to\n",
      "[nltk_data]     C:\\Users\\asram\\AppData\\Roaming\\nltk_data...\n",
      "[nltk_data]   Package punkt is already up-to-date!\n"
     ]
    },
    {
     "name": "stdout",
     "output_type": "stream",
     "text": [
      "Sentence 1: The Adventure of the Speckled Band\n",
      "   IX.\n",
      "Sentence 2: It was close upon four before the door opened, and a drunken-looking\n",
      "groom, ill-kempt and side-whiskered, with an inflamed face and\n",
      "disreputable clothes, walked into the room.\n",
      "Sentence 3: “Not yet.”\n",
      "\n",
      "“But you have hopes?”\n",
      "\n",
      "“I have hopes.”\n",
      "\n",
      "“Then, come.\n"
     ]
    }
   ],
   "source": [
    "import nltk\n",
    "nltk.download('punkt')\n",
    "\n",
    "from nltk.tokenize import sent_tokenize\n",
    "\n",
    "sentences = sent_tokenize(holmes_doc)\n",
    "\n",
    "# Let's pick 3 distinctive ones (for example purposes)\n",
    "sample_sentences = [\n",
    "    sentences[10],  # From early part of story 1\n",
    "    sentences[200], # From story 2\n",
    "    sentences[400]  # From story 3\n",
    "]\n",
    "\n",
    "for i, sent in enumerate(sample_sentences, 1):\n",
    "    print(f\"Sentence {i}: {sent}\")\n"
   ]
  },
  {
   "cell_type": "code",
   "execution_count": 3,
   "id": "338a6f34",
   "metadata": {},
   "outputs": [],
   "source": [
    "from nltk.tag import RegexpTagger\n",
    "\n",
    "# Add rules for detective story elements\n",
    "custom_patterns = [\n",
    "    (r'Holmes|Watson', 'DETCHAR'),\n",
    "    (r'(footprint|blood|cigar|evidence)', 'DETCLUE'),\n",
    "    (r'(Baker Street|crime scene|apartment)', 'DETPLACE'),\n",
    "    (r'\\d+', 'NUM'),\n",
    "    (r'\\w+ing$', 'VBG'),\n",
    "    (r'\\w+ed$', 'VBD'),\n",
    "    (r'\\w+s$', 'NNS'),\n",
    "    (r'\\w+', 'NN')\n",
    "]\n",
    "\n",
    "custom_tagger = RegexpTagger(custom_patterns)\n"
   ]
  },
  {
   "cell_type": "code",
   "execution_count": 4,
   "id": "c6f38b48",
   "metadata": {},
   "outputs": [
    {
     "name": "stderr",
     "output_type": "stream",
     "text": [
      "[nltk_data] Downloading package averaged_perceptron_tagger to\n",
      "[nltk_data]     C:\\Users\\asram\\AppData\\Roaming\\nltk_data...\n",
      "[nltk_data]   Unzipping taggers\\averaged_perceptron_tagger.zip.\n"
     ]
    },
    {
     "name": "stdout",
     "output_type": "stream",
     "text": [
      "\n",
      "Sentence 1: The Adventure of the Speckled Band\n",
      "   IX.\n",
      "\n",
      "NLTK Default POS Tags:\n",
      "[('The', 'DT'), ('Adventure', 'NN'), ('of', 'IN'), ('the', 'DT'), ('Speckled', 'NNP'), ('Band', 'NNP'), ('IX', 'NNP'), ('.', '.')]\n",
      "\n",
      "Custom POS Tags:\n",
      "[('The', 'NN'), ('Adventure', 'NN'), ('of', 'NN'), ('the', 'NN'), ('Speckled', 'VBD'), ('Band', 'NN'), ('IX', 'NN'), ('.', None)]\n",
      "\n",
      "Sentence 2: It was close upon four before the door opened, and a drunken-looking\n",
      "groom, ill-kempt and side-whiskered, with an inflamed face and\n",
      "disreputable clothes, walked into the room.\n",
      "\n",
      "NLTK Default POS Tags:\n",
      "[('It', 'PRP'), ('was', 'VBD'), ('close', 'JJ'), ('upon', 'IN'), ('four', 'CD'), ('before', 'IN'), ('the', 'DT'), ('door', 'NN'), ('opened', 'VBD'), (',', ','), ('and', 'CC'), ('a', 'DT'), ('drunken-looking', 'JJ'), ('groom', 'NN'), (',', ','), ('ill-kempt', 'JJ'), ('and', 'CC'), ('side-whiskered', 'JJ'), (',', ','), ('with', 'IN'), ('an', 'DT'), ('inflamed', 'JJ'), ('face', 'NN'), ('and', 'CC'), ('disreputable', 'JJ'), ('clothes', 'NNS'), (',', ','), ('walked', 'VBD'), ('into', 'IN'), ('the', 'DT'), ('room', 'NN'), ('.', '.')]\n",
      "\n",
      "Custom POS Tags:\n",
      "[('It', 'NN'), ('was', 'NNS'), ('close', 'NN'), ('upon', 'NN'), ('four', 'NN'), ('before', 'NN'), ('the', 'NN'), ('door', 'NN'), ('opened', 'VBD'), (',', None), ('and', 'NN'), ('a', 'NN'), ('drunken-looking', 'NN'), ('groom', 'NN'), (',', None), ('ill-kempt', 'NN'), ('and', 'NN'), ('side-whiskered', 'NN'), (',', None), ('with', 'NN'), ('an', 'NN'), ('inflamed', 'VBD'), ('face', 'NN'), ('and', 'NN'), ('disreputable', 'NN'), ('clothes', 'NNS'), (',', None), ('walked', 'VBD'), ('into', 'NN'), ('the', 'NN'), ('room', 'NN'), ('.', None)]\n",
      "\n",
      "Sentence 3: “Not yet.”\n",
      "\n",
      "“But you have hopes?”\n",
      "\n",
      "“I have hopes.”\n",
      "\n",
      "“Then, come.\n",
      "\n",
      "NLTK Default POS Tags:\n",
      "[('“', 'MD'), ('Not', 'RB'), ('yet.', 'VB'), ('”', 'JJ'), ('“', 'NNS'), ('But', 'CC'), ('you', 'PRP'), ('have', 'VBP'), ('hopes', 'NNS'), ('?', '.'), ('”', 'JJ'), ('“', 'NN'), ('I', 'PRP'), ('have', 'VBP'), ('hopes.', 'VBN'), ('”', 'NNP'), ('“', 'NNP'), ('Then', 'RB'), (',', ','), ('come', 'VB'), ('.', '.')]\n",
      "\n",
      "Custom POS Tags:\n",
      "[('“', None), ('Not', 'NN'), ('yet.', 'NN'), ('”', None), ('“', None), ('But', 'NN'), ('you', 'NN'), ('have', 'NN'), ('hopes', 'NNS'), ('?', None), ('”', None), ('“', None), ('I', 'NN'), ('have', 'NN'), ('hopes.', 'NN'), ('”', None), ('“', None), ('Then', 'NN'), (',', None), ('come', 'NN'), ('.', None)]\n"
     ]
    }
   ],
   "source": [
    "nltk.download('averaged_perceptron_tagger')\n",
    "\n",
    "from nltk import word_tokenize, pos_tag\n",
    "\n",
    "for i, sentence in enumerate(sample_sentences, 1):\n",
    "    print(f\"\\nSentence {i}: {sentence}\")\n",
    "\n",
    "    tokens = word_tokenize(sentence)\n",
    "\n",
    "    # Default NLTK POS Tagger\n",
    "    default_tags = pos_tag(tokens)\n",
    "    print(\"\\nNLTK Default POS Tags:\")\n",
    "    print(default_tags)\n",
    "\n",
    "    # Custom Sherlock-Holmes-style POS Tagger\n",
    "    custom_tags = custom_tagger.tag(tokens)\n",
    "    print(\"\\nCustom POS Tags:\")\n",
    "    print(custom_tags)\n"
   ]
  },
  {
   "cell_type": "code",
   "execution_count": null,
   "id": "32e339a4",
   "metadata": {},
   "outputs": [],
   "source": []
  }
 ],
 "metadata": {
  "kernelspec": {
   "display_name": "Python 3 (ipykernel)",
   "language": "python",
   "name": "python3"
  },
  "language_info": {
   "codemirror_mode": {
    "name": "ipython",
    "version": 3
   },
   "file_extension": ".py",
   "mimetype": "text/x-python",
   "name": "python",
   "nbconvert_exporter": "python",
   "pygments_lexer": "ipython3",
   "version": "3.10.9"
  }
 },
 "nbformat": 4,
 "nbformat_minor": 5
}
