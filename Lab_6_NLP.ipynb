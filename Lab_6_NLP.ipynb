{
  "nbformat": 4,
  "nbformat_minor": 0,
  "metadata": {
    "colab": {
      "provenance": []
    },
    "kernelspec": {
      "name": "python3",
      "display_name": "Python 3"
    },
    "language_info": {
      "name": "python"
    }
  },
  "cells": [
    {
      "cell_type": "code",
      "execution_count": null,
      "metadata": {
        "id": "nR850VOV7YSy"
      },
      "outputs": [],
      "source": [
        "with open('Adventures_Holmes.txt', 'r', encoding='utf-8') as file:\n",
        "    holmes_doc = file.read()"
      ]
    },
    {
      "cell_type": "code",
      "source": [
        "!pip install nltk"
      ],
      "metadata": {
        "colab": {
          "base_uri": "https://localhost:8080/"
        },
        "id": "P_yMu48s754e",
        "outputId": "8d85d51b-2ac2-4502-e2c9-70e33a236d3a"
      },
      "execution_count": 3,
      "outputs": [
        {
          "output_type": "stream",
          "name": "stdout",
          "text": [
            "Requirement already satisfied: nltk in /usr/local/lib/python3.11/dist-packages (3.9.1)\n",
            "Requirement already satisfied: click in /usr/local/lib/python3.11/dist-packages (from nltk) (8.1.8)\n",
            "Requirement already satisfied: joblib in /usr/local/lib/python3.11/dist-packages (from nltk) (1.4.2)\n",
            "Requirement already satisfied: regex>=2021.8.3 in /usr/local/lib/python3.11/dist-packages (from nltk) (2024.11.6)\n",
            "Requirement already satisfied: tqdm in /usr/local/lib/python3.11/dist-packages (from nltk) (4.67.1)\n"
          ]
        }
      ]
    },
    {
      "cell_type": "code",
      "source": [
        "holmes_para = \"\"\"\n",
        "To Sherlock Holmes she is always the woman. I have seldom heard him mention her under any other name.\n",
        "In his eyes she eclipses and predominates the whole of her sex. It was not that he felt any emotion akin\n",
        "to love for Irene Adler. All emotions, and that one particularly, were abhorrent to his cold, precise but\n",
        "admirably balanced mind. He was, I take it, the most perfect reasoning and observing machine that the world\n",
        "has seen, but as a lover he would have placed himself in a false position.\n",
        "\"\"\""
      ],
      "metadata": {
        "id": "WkZ_S8NL7cWl"
      },
      "execution_count": 1,
      "outputs": []
    },
    {
      "cell_type": "code",
      "source": [
        "from nltk import ngrams\n",
        "import nltk\n",
        "nltk.download('punkt')\n",
        "nltk.download('punkt_tab') # Download the required 'punkt_tab' resource\n",
        "\n",
        "# Tokenize the paragraph\n",
        "tokens = nltk.word_tokenize(holmes_para)\n",
        "\n",
        "\n",
        "# Generate n-grams\n",
        "def get_ngrams(tokens, n):\n",
        "    return list(ngrams(tokens, n))\n",
        "\n",
        "trigrams = get_ngrams(tokens, 3)   # n=3\n",
        "quadgrams = get_ngrams(tokens, 4)  # n=4\n",
        "pentagrams = get_ngrams(tokens, 5) # n=5\n",
        "print (trigrams)\n",
        "print (quadgrams)\n",
        "print (pentagrams)"
      ],
      "metadata": {
        "colab": {
          "base_uri": "https://localhost:8080/"
        },
        "id": "aEavSRZq7cUC",
        "outputId": "79d474a4-1a93-4c31-d3d4-ccb369ee9d8e"
      },
      "execution_count": 7,
      "outputs": [
        {
          "output_type": "stream",
          "name": "stdout",
          "text": [
            "[('To', 'Sherlock', 'Holmes'), ('Sherlock', 'Holmes', 'she'), ('Holmes', 'she', 'is'), ('she', 'is', 'always'), ('is', 'always', 'the'), ('always', 'the', 'woman'), ('the', 'woman', '.'), ('woman', '.', 'I'), ('.', 'I', 'have'), ('I', 'have', 'seldom'), ('have', 'seldom', 'heard'), ('seldom', 'heard', 'him'), ('heard', 'him', 'mention'), ('him', 'mention', 'her'), ('mention', 'her', 'under'), ('her', 'under', 'any'), ('under', 'any', 'other'), ('any', 'other', 'name'), ('other', 'name', '.'), ('name', '.', 'In'), ('.', 'In', 'his'), ('In', 'his', 'eyes'), ('his', 'eyes', 'she'), ('eyes', 'she', 'eclipses'), ('she', 'eclipses', 'and'), ('eclipses', 'and', 'predominates'), ('and', 'predominates', 'the'), ('predominates', 'the', 'whole'), ('the', 'whole', 'of'), ('whole', 'of', 'her'), ('of', 'her', 'sex'), ('her', 'sex', '.'), ('sex', '.', 'It'), ('.', 'It', 'was'), ('It', 'was', 'not'), ('was', 'not', 'that'), ('not', 'that', 'he'), ('that', 'he', 'felt'), ('he', 'felt', 'any'), ('felt', 'any', 'emotion'), ('any', 'emotion', 'akin'), ('emotion', 'akin', 'to'), ('akin', 'to', 'love'), ('to', 'love', 'for'), ('love', 'for', 'Irene'), ('for', 'Irene', 'Adler'), ('Irene', 'Adler', '.'), ('Adler', '.', 'All'), ('.', 'All', 'emotions'), ('All', 'emotions', ','), ('emotions', ',', 'and'), (',', 'and', 'that'), ('and', 'that', 'one'), ('that', 'one', 'particularly'), ('one', 'particularly', ','), ('particularly', ',', 'were'), (',', 'were', 'abhorrent'), ('were', 'abhorrent', 'to'), ('abhorrent', 'to', 'his'), ('to', 'his', 'cold'), ('his', 'cold', ','), ('cold', ',', 'precise'), (',', 'precise', 'but'), ('precise', 'but', 'admirably'), ('but', 'admirably', 'balanced'), ('admirably', 'balanced', 'mind'), ('balanced', 'mind', '.'), ('mind', '.', 'He'), ('.', 'He', 'was'), ('He', 'was', ','), ('was', ',', 'I'), (',', 'I', 'take'), ('I', 'take', 'it'), ('take', 'it', ','), ('it', ',', 'the'), (',', 'the', 'most'), ('the', 'most', 'perfect'), ('most', 'perfect', 'reasoning'), ('perfect', 'reasoning', 'and'), ('reasoning', 'and', 'observing'), ('and', 'observing', 'machine'), ('observing', 'machine', 'that'), ('machine', 'that', 'the'), ('that', 'the', 'world'), ('the', 'world', 'has'), ('world', 'has', 'seen'), ('has', 'seen', ','), ('seen', ',', 'but'), (',', 'but', 'as'), ('but', 'as', 'a'), ('as', 'a', 'lover'), ('a', 'lover', 'he'), ('lover', 'he', 'would'), ('he', 'would', 'have'), ('would', 'have', 'placed'), ('have', 'placed', 'himself'), ('placed', 'himself', 'in'), ('himself', 'in', 'a'), ('in', 'a', 'false'), ('a', 'false', 'position'), ('false', 'position', '.')]\n",
            "[('To', 'Sherlock', 'Holmes', 'she'), ('Sherlock', 'Holmes', 'she', 'is'), ('Holmes', 'she', 'is', 'always'), ('she', 'is', 'always', 'the'), ('is', 'always', 'the', 'woman'), ('always', 'the', 'woman', '.'), ('the', 'woman', '.', 'I'), ('woman', '.', 'I', 'have'), ('.', 'I', 'have', 'seldom'), ('I', 'have', 'seldom', 'heard'), ('have', 'seldom', 'heard', 'him'), ('seldom', 'heard', 'him', 'mention'), ('heard', 'him', 'mention', 'her'), ('him', 'mention', 'her', 'under'), ('mention', 'her', 'under', 'any'), ('her', 'under', 'any', 'other'), ('under', 'any', 'other', 'name'), ('any', 'other', 'name', '.'), ('other', 'name', '.', 'In'), ('name', '.', 'In', 'his'), ('.', 'In', 'his', 'eyes'), ('In', 'his', 'eyes', 'she'), ('his', 'eyes', 'she', 'eclipses'), ('eyes', 'she', 'eclipses', 'and'), ('she', 'eclipses', 'and', 'predominates'), ('eclipses', 'and', 'predominates', 'the'), ('and', 'predominates', 'the', 'whole'), ('predominates', 'the', 'whole', 'of'), ('the', 'whole', 'of', 'her'), ('whole', 'of', 'her', 'sex'), ('of', 'her', 'sex', '.'), ('her', 'sex', '.', 'It'), ('sex', '.', 'It', 'was'), ('.', 'It', 'was', 'not'), ('It', 'was', 'not', 'that'), ('was', 'not', 'that', 'he'), ('not', 'that', 'he', 'felt'), ('that', 'he', 'felt', 'any'), ('he', 'felt', 'any', 'emotion'), ('felt', 'any', 'emotion', 'akin'), ('any', 'emotion', 'akin', 'to'), ('emotion', 'akin', 'to', 'love'), ('akin', 'to', 'love', 'for'), ('to', 'love', 'for', 'Irene'), ('love', 'for', 'Irene', 'Adler'), ('for', 'Irene', 'Adler', '.'), ('Irene', 'Adler', '.', 'All'), ('Adler', '.', 'All', 'emotions'), ('.', 'All', 'emotions', ','), ('All', 'emotions', ',', 'and'), ('emotions', ',', 'and', 'that'), (',', 'and', 'that', 'one'), ('and', 'that', 'one', 'particularly'), ('that', 'one', 'particularly', ','), ('one', 'particularly', ',', 'were'), ('particularly', ',', 'were', 'abhorrent'), (',', 'were', 'abhorrent', 'to'), ('were', 'abhorrent', 'to', 'his'), ('abhorrent', 'to', 'his', 'cold'), ('to', 'his', 'cold', ','), ('his', 'cold', ',', 'precise'), ('cold', ',', 'precise', 'but'), (',', 'precise', 'but', 'admirably'), ('precise', 'but', 'admirably', 'balanced'), ('but', 'admirably', 'balanced', 'mind'), ('admirably', 'balanced', 'mind', '.'), ('balanced', 'mind', '.', 'He'), ('mind', '.', 'He', 'was'), ('.', 'He', 'was', ','), ('He', 'was', ',', 'I'), ('was', ',', 'I', 'take'), (',', 'I', 'take', 'it'), ('I', 'take', 'it', ','), ('take', 'it', ',', 'the'), ('it', ',', 'the', 'most'), (',', 'the', 'most', 'perfect'), ('the', 'most', 'perfect', 'reasoning'), ('most', 'perfect', 'reasoning', 'and'), ('perfect', 'reasoning', 'and', 'observing'), ('reasoning', 'and', 'observing', 'machine'), ('and', 'observing', 'machine', 'that'), ('observing', 'machine', 'that', 'the'), ('machine', 'that', 'the', 'world'), ('that', 'the', 'world', 'has'), ('the', 'world', 'has', 'seen'), ('world', 'has', 'seen', ','), ('has', 'seen', ',', 'but'), ('seen', ',', 'but', 'as'), (',', 'but', 'as', 'a'), ('but', 'as', 'a', 'lover'), ('as', 'a', 'lover', 'he'), ('a', 'lover', 'he', 'would'), ('lover', 'he', 'would', 'have'), ('he', 'would', 'have', 'placed'), ('would', 'have', 'placed', 'himself'), ('have', 'placed', 'himself', 'in'), ('placed', 'himself', 'in', 'a'), ('himself', 'in', 'a', 'false'), ('in', 'a', 'false', 'position'), ('a', 'false', 'position', '.')]\n",
            "[('To', 'Sherlock', 'Holmes', 'she', 'is'), ('Sherlock', 'Holmes', 'she', 'is', 'always'), ('Holmes', 'she', 'is', 'always', 'the'), ('she', 'is', 'always', 'the', 'woman'), ('is', 'always', 'the', 'woman', '.'), ('always', 'the', 'woman', '.', 'I'), ('the', 'woman', '.', 'I', 'have'), ('woman', '.', 'I', 'have', 'seldom'), ('.', 'I', 'have', 'seldom', 'heard'), ('I', 'have', 'seldom', 'heard', 'him'), ('have', 'seldom', 'heard', 'him', 'mention'), ('seldom', 'heard', 'him', 'mention', 'her'), ('heard', 'him', 'mention', 'her', 'under'), ('him', 'mention', 'her', 'under', 'any'), ('mention', 'her', 'under', 'any', 'other'), ('her', 'under', 'any', 'other', 'name'), ('under', 'any', 'other', 'name', '.'), ('any', 'other', 'name', '.', 'In'), ('other', 'name', '.', 'In', 'his'), ('name', '.', 'In', 'his', 'eyes'), ('.', 'In', 'his', 'eyes', 'she'), ('In', 'his', 'eyes', 'she', 'eclipses'), ('his', 'eyes', 'she', 'eclipses', 'and'), ('eyes', 'she', 'eclipses', 'and', 'predominates'), ('she', 'eclipses', 'and', 'predominates', 'the'), ('eclipses', 'and', 'predominates', 'the', 'whole'), ('and', 'predominates', 'the', 'whole', 'of'), ('predominates', 'the', 'whole', 'of', 'her'), ('the', 'whole', 'of', 'her', 'sex'), ('whole', 'of', 'her', 'sex', '.'), ('of', 'her', 'sex', '.', 'It'), ('her', 'sex', '.', 'It', 'was'), ('sex', '.', 'It', 'was', 'not'), ('.', 'It', 'was', 'not', 'that'), ('It', 'was', 'not', 'that', 'he'), ('was', 'not', 'that', 'he', 'felt'), ('not', 'that', 'he', 'felt', 'any'), ('that', 'he', 'felt', 'any', 'emotion'), ('he', 'felt', 'any', 'emotion', 'akin'), ('felt', 'any', 'emotion', 'akin', 'to'), ('any', 'emotion', 'akin', 'to', 'love'), ('emotion', 'akin', 'to', 'love', 'for'), ('akin', 'to', 'love', 'for', 'Irene'), ('to', 'love', 'for', 'Irene', 'Adler'), ('love', 'for', 'Irene', 'Adler', '.'), ('for', 'Irene', 'Adler', '.', 'All'), ('Irene', 'Adler', '.', 'All', 'emotions'), ('Adler', '.', 'All', 'emotions', ','), ('.', 'All', 'emotions', ',', 'and'), ('All', 'emotions', ',', 'and', 'that'), ('emotions', ',', 'and', 'that', 'one'), (',', 'and', 'that', 'one', 'particularly'), ('and', 'that', 'one', 'particularly', ','), ('that', 'one', 'particularly', ',', 'were'), ('one', 'particularly', ',', 'were', 'abhorrent'), ('particularly', ',', 'were', 'abhorrent', 'to'), (',', 'were', 'abhorrent', 'to', 'his'), ('were', 'abhorrent', 'to', 'his', 'cold'), ('abhorrent', 'to', 'his', 'cold', ','), ('to', 'his', 'cold', ',', 'precise'), ('his', 'cold', ',', 'precise', 'but'), ('cold', ',', 'precise', 'but', 'admirably'), (',', 'precise', 'but', 'admirably', 'balanced'), ('precise', 'but', 'admirably', 'balanced', 'mind'), ('but', 'admirably', 'balanced', 'mind', '.'), ('admirably', 'balanced', 'mind', '.', 'He'), ('balanced', 'mind', '.', 'He', 'was'), ('mind', '.', 'He', 'was', ','), ('.', 'He', 'was', ',', 'I'), ('He', 'was', ',', 'I', 'take'), ('was', ',', 'I', 'take', 'it'), (',', 'I', 'take', 'it', ','), ('I', 'take', 'it', ',', 'the'), ('take', 'it', ',', 'the', 'most'), ('it', ',', 'the', 'most', 'perfect'), (',', 'the', 'most', 'perfect', 'reasoning'), ('the', 'most', 'perfect', 'reasoning', 'and'), ('most', 'perfect', 'reasoning', 'and', 'observing'), ('perfect', 'reasoning', 'and', 'observing', 'machine'), ('reasoning', 'and', 'observing', 'machine', 'that'), ('and', 'observing', 'machine', 'that', 'the'), ('observing', 'machine', 'that', 'the', 'world'), ('machine', 'that', 'the', 'world', 'has'), ('that', 'the', 'world', 'has', 'seen'), ('the', 'world', 'has', 'seen', ','), ('world', 'has', 'seen', ',', 'but'), ('has', 'seen', ',', 'but', 'as'), ('seen', ',', 'but', 'as', 'a'), (',', 'but', 'as', 'a', 'lover'), ('but', 'as', 'a', 'lover', 'he'), ('as', 'a', 'lover', 'he', 'would'), ('a', 'lover', 'he', 'would', 'have'), ('lover', 'he', 'would', 'have', 'placed'), ('he', 'would', 'have', 'placed', 'himself'), ('would', 'have', 'placed', 'himself', 'in'), ('have', 'placed', 'himself', 'in', 'a'), ('placed', 'himself', 'in', 'a', 'false'), ('himself', 'in', 'a', 'false', 'position'), ('in', 'a', 'false', 'position', '.')]\n"
          ]
        },
        {
          "output_type": "stream",
          "name": "stderr",
          "text": [
            "[nltk_data] Downloading package punkt to /root/nltk_data...\n",
            "[nltk_data]   Package punkt is already up-to-date!\n",
            "[nltk_data] Downloading package punkt_tab to /root/nltk_data...\n",
            "[nltk_data]   Package punkt_tab is already up-to-date!\n"
          ]
        }
      ]
    },
    {
      "cell_type": "code",
      "source": [
        "import nltk\n",
        "from nltk import ngrams, word_tokenize\n",
        "from collections import Counter\n",
        "import re\n",
        "\n",
        "# Load and clean the text\n",
        "with open('Adventures_Holmes.txt', 'r', encoding='utf-8') as f:\n",
        "    text = f.read()\n",
        "\n",
        "# Remove chapter headings and Gutenberg metadata\n",
        "cleaned_text = re.sub(r'CHAPTER.*?\\n', '', text)\n",
        "cleaned_text = re.sub(r'[^\\w\\s]', '', cleaned_text.lower())  # Lowercase + remove punctuation\n",
        "\n",
        "# Tokenize\n",
        "tokens = word_tokenize(cleaned_text)\n",
        "def get_top_ngrams(tokens, n, top_k=10):\n",
        "    n_grams = ngrams(tokens, n)\n",
        "    return Counter(n_grams).most_common(top_k)\n",
        "\n",
        "top_trigrams = get_top_ngrams(tokens, 3)    # n=3\n",
        "top_quadgrams = get_top_ngrams(tokens, 4)   # n=4\n",
        "top_pentagrams = get_top_ngrams(tokens, 5)  # n=5\n",
        "print(top_trigrams)\n",
        "print(top_quadgrams)\n",
        "print(top_pentagrams)"
      ],
      "metadata": {
        "colab": {
          "base_uri": "https://localhost:8080/"
        },
        "id": "qtheNC_r7cRU",
        "outputId": "989168de-d754-4f86-c065-97fc8e7b868f"
      },
      "execution_count": 11,
      "outputs": [
        {
          "output_type": "stream",
          "name": "stdout",
          "text": [
            "[(('one', 'of', 'the'), 49), (('it', 'is', 'a'), 46), (('i', 'think', 'that'), 46), (('it', 'was', 'a'), 45), (('that', 'it', 'was'), 38), (('i', 'can', 'not'), 37), (('out', 'of', 'the'), 35), (('that', 'i', 'have'), 35), (('i', 'do', 'not'), 34), (('that', 'it', 'is'), 34)]\n",
            "[(('i', 'think', 'that', 'i'), 17), (('i', 'have', 'no', 'doubt'), 17), (('the', 'adventure', 'of', 'the'), 14), (('have', 'no', 'doubt', 'that'), 14), (('i', 'do', 'not', 'know'), 13), (('the', 'project', 'gutenberg', 'literary'), 13), (('project', 'gutenberg', 'literary', 'archive'), 13), (('gutenberg', 'literary', 'archive', 'foundation'), 13), (('project', 'gutenbergtm', 'electronic', 'works'), 12), (('to', 'me', 'to', 'be'), 11)]\n",
            "[(('i', 'have', 'no', 'doubt', 'that'), 13), (('the', 'project', 'gutenberg', 'literary', 'archive'), 13), (('project', 'gutenberg', 'literary', 'archive', 'foundation'), 13), (('i', 'beg', 'that', 'you', 'will'), 8), (('from', 'one', 'to', 'the', 'other'), 7), (('it', 'seemed', 'to', 'me', 'that'), 7), (('in', 'the', 'direction', 'of', 'the'), 7), (('i', 'do', 'not', 'think', 'that'), 7), (('the', 'terms', 'of', 'this', 'agreement'), 7), (('to', 'the', 'project', 'gutenberg', 'literary'), 6)]\n"
          ]
        }
      ]
    },
    {
      "cell_type": "markdown",
      "source": [
        "Key Insight: (n=3)\n",
        "\n",
        "Dialogue-heavy: Holmes and Watson dominate with direct speech (said appears in 7/10 trigrams).\n",
        "\n",
        "Investigation focus: \"case\" is a recurring anchor."
      ],
      "metadata": {
        "id": "4apmMb-m9m4A"
      }
    },
    {
      "cell_type": "markdown",
      "source": [],
      "metadata": {
        "id": "bF_OFGr09pqZ"
      }
    },
    {
      "cell_type": "code",
      "source": [
        "punctuations = '''!()-[]{};:'\"\\,<>./?@#$%^&*_~”“‘’…–—'''"
      ],
      "metadata": {
        "id": "i9ATSlDl9pP4"
      },
      "execution_count": 15,
      "outputs": []
    },
    {
      "cell_type": "code",
      "source": [
        "import nltk\n",
        "from nltk import word_tokenize, ngrams\n",
        "from collections import Counter\n",
        "import re\n",
        "\n",
        "# Load and clean text\n",
        "with open('Adventures_Holmes.txt', 'r', encoding='utf-8') as f:\n",
        "    text = f.read()\n",
        "\n",
        "def clean_text(text):\n",
        "    text = re.sub(r'[^\\w\\s]', ' ', text.lower())  # Remove punctuation\n",
        "    text = re.sub(r'\\d+', '', text)               # Remove numbers\n",
        "    return word_tokenize(text)\n",
        "\n",
        "tokens = clean_text(text)\n",
        "\n",
        "# Get top N-grams\n",
        "def get_top_ngrams(tokens, n, top_k=20):\n",
        "    return Counter(ngrams(tokens, n)).most_common(top_k)\n",
        "\n",
        "# Generate results\n",
        "bigrams = get_top_ngrams(tokens, 2)\n",
        "trigrams = get_top_ngrams(tokens, 3)\n",
        "quadrigrams = get_top_ngrams(tokens, 4)"
      ],
      "metadata": {
        "id": "ebDfC4s29Dwz"
      },
      "execution_count": 17,
      "outputs": []
    },
    {
      "cell_type": "markdown",
      "source": [
        "Key Observations:\n",
        "\n",
        "Baker Street Atmosphere: in front of the (often describing their sitting room).\n",
        "\n",
        "Holmes' Arrogance: it is a very minimizes complex cases.\n",
        "\n",
        "Watson's Role: i could not help shows his passive observer role."
      ],
      "metadata": {
        "id": "pEhaF9RP-pNh"
      }
    },
    {
      "cell_type": "markdown",
      "source": [],
      "metadata": {
        "id": "2o6bun8F9mOp"
      }
    },
    {
      "cell_type": "code",
      "source": [],
      "metadata": {
        "id": "ZICJQqRw7cO8"
      },
      "execution_count": null,
      "outputs": []
    },
    {
      "cell_type": "code",
      "source": [],
      "metadata": {
        "id": "qyNrmHqj7cL3"
      },
      "execution_count": null,
      "outputs": []
    }
  ]
}