{
  "nbformat": 4,
  "nbformat_minor": 0,
  "metadata": {
    "colab": {
      "provenance": []
    },
    "kernelspec": {
      "name": "python3",
      "display_name": "Python 3"
    },
    "language_info": {
      "name": "python"
    }
  },
  "cells": [
    {
      "cell_type": "code",
      "execution_count": null,
      "metadata": {
        "colab": {
          "base_uri": "https://localhost:8080/"
        },
        "id": "AkmGsPoQ7qUI",
        "outputId": "14ff3dd7-a8ca-4d15-d171-9ce111f4d824"
      },
      "outputs": [
        {
          "output_type": "stream",
          "name": "stdout",
          "text": [
            "Valid Dates: ['12-05-2023', '2023/12/05', '05-12-2023']\n"
          ]
        }
      ],
      "source": [
        "import re\n",
        "\n",
        "# Regex pattern\n",
        "date_pattern = r'\\b(?:\\d{2}-\\d{2}-\\d{4}|\\d{4}/\\d{2}/\\d{2})\\b'\n",
        "\n",
        "# Test cases\n",
        "dates = [\"12-05-2023\", \"2023/12/05\", \"05-12-2023\", \"2023-12-05\"]\n",
        "matches = [date for date in dates if re.fullmatch(date_pattern, date)]\n",
        "\n",
        "print(\"Valid Dates:\", matches)\n"
      ]
    },
    {
      "cell_type": "code",
      "source": [
        "tweet = \"Exploring #NLP and #AI with #MachineLearning in 2025!\"\n",
        "hashtag_pattern = r\"#\\w+\"\n",
        "\n",
        "hashtags = re.findall(hashtag_pattern, tweet)\n",
        "print(\"Extracted Hashtags:\", hashtags)\n"
      ],
      "metadata": {
        "colab": {
          "base_uri": "https://localhost:8080/"
        },
        "id": "fodYonncyRPT",
        "outputId": "409acac9-23cd-4f4a-f02a-ef4ec6540828"
      },
      "execution_count": null,
      "outputs": [
        {
          "output_type": "stream",
          "name": "stdout",
          "text": [
            "Extracted Hashtags: ['#NLP', '#AI', '#MachineLearning']\n"
          ]
        }
      ]
    },
    {
      "cell_type": "code",
      "source": [
        "def is_valid_ipv4(ip):\n",
        "    ip_pattern = r'\\b(?:[0-9]{1,3}\\.){3}[0-9]{1,3}\\b'\n",
        "    if not re.fullmatch(ip_pattern, ip):\n",
        "        return False\n",
        "    return all(0 <= int(octet) <= 255 for octet in ip.split(\".\"))\n",
        "\n",
        "# Test cases\n",
        "ips = [\"192.168.1.1\", \"255.255.255.255\", \"999.999.999.999\", \"300.12.56.789\"]\n",
        "valid_ips = [ip for ip in ips if is_valid_ipv4(ip)]\n",
        "\n",
        "print(\"Valid IPv4 Addresses:\", valid_ips)\n",
        "\n"
      ],
      "metadata": {
        "colab": {
          "base_uri": "https://localhost:8080/"
        },
        "id": "jqB8Pk4QySEw",
        "outputId": "b261bd7a-e191-4bbb-c423-4e7efa39a9f2"
      },
      "execution_count": null,
      "outputs": [
        {
          "output_type": "stream",
          "name": "stdout",
          "text": [
            "Valid IPv4 Addresses: ['192.168.1.1', '255.255.255.255']\n"
          ]
        }
      ]
    }
  ]
}